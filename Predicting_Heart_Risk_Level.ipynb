{
  "nbformat": 4,
  "nbformat_minor": 0,
  "metadata": {
    "kernelspec": {
      "display_name": "Python 3",
      "language": "python",
      "name": "python3"
    },
    "language_info": {
      "codemirror_mode": {
        "name": "ipython",
        "version": 3
      },
      "file_extension": ".py",
      "mimetype": "text/x-python",
      "name": "python",
      "nbconvert_exporter": "python",
      "pygments_lexer": "ipython3",
      "version": "3.6.8"
    },
    "colab": {
      "name": "Predicting Heart Risk Level.ipynb",
      "provenance": []
    }
  },
  "cells": [
    {
      "cell_type": "code",
      "metadata": {
        "id": "Hu_NaKDSkeYF",
        "outputId": "dc610fb7-e80c-41cb-fc3e-9f066b45ad1d"
      },
      "source": [
        "import pandas as pd\n",
        "import numpy as np\n",
        "\n",
        "dataset=pd.read_csv('cardio_dataset.csv').values\n",
        "\n",
        "data=dataset[:,0:7]\n",
        "target=dataset[:,7]\n",
        "\n",
        "target=np.reshape(target, (-1,1))\n",
        "\n",
        "print(data[:10])\n",
        "print(target[:10])\n",
        "print('size of the dataset:',len(dataset))"
      ],
      "execution_count": null,
      "outputs": [
        {
          "name": "stdout",
          "output_type": "stream",
          "text": [
            "[[  2.  48. 236.  66.   0.   2.   0.]\n",
            " [  1.  48. 260.  51.   0.   2.   1.]\n",
            " [  1.  44. 187.  49.   1.   2.   0.]\n",
            " [  2.  42. 216.  57.   1.   2.   0.]\n",
            " [  2.  56. 156.  42.   0.   2.   0.]\n",
            " [  1.  44. 162.  57.   1.   2.   0.]\n",
            " [  1.  50. 244.  47.   0.   2.   0.]\n",
            " [  1.  48. 212.  30.   1.   2.   0.]\n",
            " [  2.  66. 202.  53.   0.   2.   1.]\n",
            " [  1.  63. 186.  46.   1.   2.   0.]]\n",
            "[[ 1.1]\n",
            " [ 7. ]\n",
            " [ 7. ]\n",
            " [ 0.4]\n",
            " [ 2.2]\n",
            " [ 3. ]\n",
            " [ 4.2]\n",
            " [17.4]\n",
            " [13.4]\n",
            " [17.3]]\n",
            "size of the dataset: 6644\n"
          ]
        }
      ]
    },
    {
      "cell_type": "code",
      "metadata": {
        "id": "vw48oq41keYH"
      },
      "source": [
        "from sklearn.model_selection import train_test_split\n",
        "\n",
        "train_data,test_data,train_target,test_target=train_test_split(data,target,test_size=0.1)"
      ],
      "execution_count": null,
      "outputs": []
    },
    {
      "cell_type": "code",
      "metadata": {
        "id": "nY7txqplkeYJ"
      },
      "source": [
        "from sklearn.linear_model import LinearRegression\n",
        "\n",
        "model=LinearRegression()\n",
        "\n",
        "model.fit(train_data,train_target)\n",
        "predicted_target=model.predict(test_data)"
      ],
      "execution_count": null,
      "outputs": []
    },
    {
      "cell_type": "code",
      "metadata": {
        "id": "WwkIlRHHkeYJ",
        "outputId": "6667b740-5822-4bd9-beb1-fa3def50f225"
      },
      "source": [
        "from sklearn.metrics import r2_score\n",
        "\n",
        "r2=r2_score(test_target,predicted_target)\n",
        "print(\"r2 score:\",r2)"
      ],
      "execution_count": null,
      "outputs": [
        {
          "name": "stdout",
          "output_type": "stream",
          "text": [
            "r2 score: 0.7582094649564692\n"
          ]
        }
      ]
    },
    {
      "cell_type": "code",
      "metadata": {
        "id": "OzcFl2ZDkeYJ",
        "outputId": "76a489de-f9db-45d5-bb80-45b7519dd8d9"
      },
      "source": [
        "print('Actual Target:',test_target[:10].T)\n",
        "print('Predicted Target:',predicted_target[:10].T)"
      ],
      "execution_count": null,
      "outputs": [
        {
          "name": "stdout",
          "output_type": "stream",
          "text": [
            "Actual Target: [[19.1 14.7 30.9  8.3  2.6  2.4 14.3 14.6  6.6  3.1]]\n",
            "Predicted Target: [[20.33336949 19.94445968 18.4995706  20.79633703  3.68326182 -0.42903847\n",
            "  17.12970518 17.3475694   9.54577098  3.98755542]]\n"
          ]
        }
      ]
    },
    {
      "cell_type": "code",
      "metadata": {
        "id": "s4P4f-agkeYK",
        "outputId": "7815057e-c46e-41b9-e6bd-7230e708414a"
      },
      "source": [
        "import joblib\n",
        "\n",
        "joblib.dump(model,'heart_risk_prediction_regression_model.sav')"
      ],
      "execution_count": null,
      "outputs": [
        {
          "data": {
            "text/plain": [
              "['heart_risk_prediction_regression_model.sav']"
            ]
          },
          "execution_count": 9,
          "metadata": {},
          "output_type": "execute_result"
        }
      ]
    },
    {
      "cell_type": "code",
      "metadata": {
        "id": "CJCuwRzYkeYK"
      },
      "source": [
        ""
      ],
      "execution_count": null,
      "outputs": []
    }
  ]
}